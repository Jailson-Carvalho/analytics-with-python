{
 "cells": [
  {
   "cell_type": "markdown",
   "id": "1bd5bea9",
   "metadata": {},
   "source": [
    "# Primeiro Comandos em Python"
   ]
  },
  {
   "cell_type": "markdown",
   "id": "345580d3",
   "metadata": {},
   "source": [
    "Para começarmos a aprender a linguagem Python, vamos explorar os primeiros comandos básicos.\n",
    "\n",
    "Esses comandos serão utilizados ao longo da nossa vivência como analistas de dados."
   ]
  },
  {
   "cell_type": "markdown",
   "id": "05fcd7f0",
   "metadata": {},
   "source": [
    "## 1. Variáveis e tipos básicos"
   ]
  },
  {
   "cell_type": "markdown",
   "id": "8b0bd37c",
   "metadata": {},
   "source": [
    "Uma maneira simples de entender variáveis é: como uma caixinha com um nome, onde você guarda alguma informação para usar depois.\n",
    "\n",
    "Uma variável em Python é um espaço na memória do computador usado para armazenar valores (como números, textos, listas, etc.) que podem ser reutilizados e manipulados ao longo do programa."
   ]
  },
  {
   "cell_type": "code",
   "execution_count": null,
   "id": "8f7f48a9",
   "metadata": {},
   "outputs": [],
   "source": [
    "# Primeiro, damos um nome à variável; em seguida, colocamos o sinal de igualdade; e, por último, o valor ou a informação que ela armazenará.\n",
    "\n",
    "nome = 'Jailson Carvalho'   # a variável nome recebeu uma string 'Jailson'.\n",
    "idade = 35                  # a variável idade recebeu um número inteiro.\n",
    "altura = 1.73               # a variável altura recebeu um valor float, ou decimal.\n"
   ]
  },
  {
   "cell_type": "markdown",
   "id": "276e229e",
   "metadata": {},
   "source": [
    "##### Utilidades das variáveis\n",
    "\n",
    "###### 1. Guardar informações para reutilização: Variáveis permitem armazenar dados e usar esses valores várias vezes sem precisar digitá-los novamente.\n",
    "###### 2. Facilitar alterações no código: Se você quiser mudar um valor, basta alterar a variável uma vez, sem precisar alterar todos os lugares do código.\n",
    "###### 3. Permitir cálculos e operações: Variáveis permitem guardar números ou resultados de operações e utilizá-los em cálculos."
   ]
  },
  {
   "cell_type": "markdown",
   "id": "50cd3385",
   "metadata": {},
   "source": [
    "## 2. Exibir algo na tela"
   ]
  },
  {
   "cell_type": "code",
   "execution_count": 10,
   "id": "49d0f292",
   "metadata": {},
   "outputs": [
    {
     "name": "stdout",
     "output_type": "stream",
     "text": [
      "Jailson Carvalho 35 1.73\n"
     ]
    }
   ],
   "source": [
    "# para exibir o resultado acima vamos fazer uso do comando print.\n",
    "print(nome, idade, altura)"
   ]
  },
  {
   "cell_type": "code",
   "execution_count": 11,
   "id": "9ccd18a4",
   "metadata": {},
   "outputs": [
    {
     "name": "stdout",
     "output_type": "stream",
     "text": [
      "Jailson Carvalho\n",
      "35\n",
      "1.73\n"
     ]
    }
   ],
   "source": [
    "# a forma cima fica confusa, então vamos usar o mesmo comando mas de forma individuaL para cada variável.\n",
    "print(nome)\n",
    "print(idade)\n",
    "print(altura)\n"
   ]
  },
  {
   "cell_type": "code",
   "execution_count": 12,
   "id": "cf031248",
   "metadata": {},
   "outputs": [
    {
     "name": "stdout",
     "output_type": "stream",
     "text": [
      "Meu nome é Jailson Carvalho, tenho 35 anos de idade, minha altura é de 1.73.\n"
     ]
    }
   ],
   "source": [
    "# a exibição acima ficou melho, mas ainda apresenta dados que não são claros, não há como saber, exatamente, do que se trata. Assim faremos agora uma exibição formatada.\n",
    "\n",
    "print(f\"Meu nome é {nome}, tenho {idade} anos de idade, minha altura é de {altura}.\")\n",
    "\n",
    "# veja no resultado abaixo que agora faz mais sentido."
   ]
  },
  {
   "cell_type": "markdown",
   "id": "6c254b0e",
   "metadata": {},
   "source": [
    "##### Utilidades de exibir algo em tela\n",
    "\n",
    "###### 1. Mostrar valores de variáveis: Você pode exibir qualquer informação que está armazenada em variáveis.\n",
    "###### 2. Comunicar com o usuário: É usado para dar mensagens, instruções ou resultados para quem está usando o programa.\n",
    "###### 3. Depuração e teste de código: Durante o desenvolvimento, você pode imprimir valores intermediários para entender o que está acontecendo no programa."
   ]
  },
  {
   "cell_type": "markdown",
   "id": "8dc1374a",
   "metadata": {},
   "source": [
    "## 3. Entrada de dados"
   ]
  },
  {
   "cell_type": "markdown",
   "id": "0f01f5c8",
   "metadata": {},
   "source": [
    "Imagina você que o resultado acima seja o dálogo entre duas pessoas (emissor e receptor).\n",
    "\n",
    "HAverá perguntas.  Assim, como que seria no backend usando Python esse diálogo? Vejamos."
   ]
  },
  {
   "cell_type": "code",
   "execution_count": null,
   "id": "aaa798d2",
   "metadata": {},
   "outputs": [
    {
     "name": "stdout",
     "output_type": "stream",
     "text": [
      "fsg\n"
     ]
    }
   ],
   "source": [
    "profissao = input(\"Muito prazer Jailson Carvalho. Qual a sua profissão? \")\n",
    "print(profissao)\n",
    "\n",
    "# input() é uma função do Python que exibe uma mensagem no console e espera o usuário digitar algo.\n",
    "# \"Muito prazer Jailson Carvalho. Qual a sua profissão? \" é a mensagem que aparecerá para o usuário.\n",
    "# O valor digitado pelo usuário é armazenado na variável profissao."
   ]
  },
  {
   "cell_type": "code",
   "execution_count": 4,
   "id": "630f76ac",
   "metadata": {},
   "outputs": [
    {
     "name": "stdout",
     "output_type": "stream",
     "text": [
      "80\n"
     ]
    }
   ],
   "source": [
    "# o comando int(input()) quer dizer que como restosta só aceita números inteiros, seu dar como restosta um texto não vai aceitar.\n",
    "\n",
    "peso = int(input(\"Qual o seu peso? \"))\n",
    "print(peso)"
   ]
  },
  {
   "cell_type": "markdown",
   "id": "915f1fdf",
   "metadata": {},
   "source": [
    "##### Utilidades da Entrada de Dados\n",
    "\n",
    "###### 1. Interagir com o usuário: Permite que o programa receba informações diretamente do usuário, tornando o código dinâmico.\n",
    "###### 2. ersonalizar respostas: Com a entrada de dados, você pode adaptar mensagens e cálculos de acordo com o que o usuário digita.\n",
    "###### 3. Receber dados para processamento: O input() permite coletar informações para cálculos, análises ou decisões no programa."
   ]
  },
  {
   "cell_type": "markdown",
   "id": "705d5601",
   "metadata": {},
   "source": [
    "## 4. Operações matemáticas"
   ]
  },
  {
   "cell_type": "code",
   "execution_count": 16,
   "id": "004019e7",
   "metadata": {},
   "outputs": [
    {
     "name": "stdout",
     "output_type": "stream",
     "text": [
      "13\n",
      "7\n",
      "30\n",
      "3.3333333333333335\n",
      "3\n",
      "1\n",
      "1000\n"
     ]
    }
   ],
   "source": [
    "a = 10\n",
    "b = 3\n",
    "\n",
    "print(a + b)   # soma\n",
    "print(a - b)   # subtração\n",
    "print(a * b)   # multiplicação\n",
    "print(a / b)   # divisão\n",
    "print(a // b)  # divisão inteira\n",
    "print(a % b)   # resto da divisão\n",
    "print(a ** b)  # potência\n"
   ]
  },
  {
   "cell_type": "markdown",
   "id": "53a5b657",
   "metadata": {},
   "source": [
    "##### Utilidades das Operações matemáticas\n",
    "\n",
    "###### 1. Cálculos do dia a dia: Você pode automatizar contas simples, como soma, subtração, multiplicação e divisão, sem precisar de calculadora.\n",
    "###### 2. Cálculos avançados: ** → potência, usado em cálculos matemáticos ou científicos.\n",
    "###### 3. Trabalhar com números inteiros e resto: // → divisão inteira, retorna apenas o número sem a parte decimal. % → resto da divisão, útil para verificar se um número é divisível por outro ou criar lógicas condicionais:"
   ]
  },
  {
   "cell_type": "markdown",
   "id": "a4d24d14",
   "metadata": {},
   "source": [
    "## 5. Condições (if/else)"
   ]
  },
  {
   "cell_type": "markdown",
   "id": "07a38afc",
   "metadata": {},
   "source": [
    "Condicional significa: tomar decisões no código, ou seja, executar um bloco de comandos se uma condição for verdadeira e outro bloco se for falsa."
   ]
  },
  {
   "cell_type": "code",
   "execution_count": null,
   "id": "35dff2ff",
   "metadata": {},
   "outputs": [
    {
     "name": "stdout",
     "output_type": "stream",
     "text": [
      "Você tem 17 anos de idade. Ainda não está apto a ter CNH.\n"
     ]
    }
   ],
   "source": [
    "idade = int(input(\"Qual é a sua idade?\")) # idade, variável que recebe um valor concernente a idade do individuo para sabermos se ele pode ter CNH ou não.\n",
    "\n",
    "if idade >= 18:                           # A condição idade >= 18 verifica se a idade é maior ou igual a 18. Se for verdadeiro, o bloco logo abaixo é executado:\n",
    "    print(f\"Você tem {idade} anos de idade. Está apto a ter a CNH.\") \n",
    "\n",
    "else:                                      # O else significa \"senão\". Esse bloco é executado apenas se a condição do if for falsa. Nesse caso, imprime:\n",
    "    print(f\"Você tem {idade} anos de idade. Ainda não está apto a ter CNH.\")"
   ]
  },
  {
   "cell_type": "markdown",
   "id": "ed19d738",
   "metadata": {},
   "source": [
    "##### Utilidades das condicionais\n",
    "\n",
    "###### 1. Tomar decisões no programa: Condicionais permitem que o programa escolha caminhos diferentes dependendo da entrada do usuário.\n",
    "###### 2. Evitar erros e validar dados: Podemos usar condicionais para verificar se os dados estão corretos antes de executar algo.\n",
    "###### 3. Automatizar respostas personalizadas: Condicionais permitem respostas diferentes para cada situação, tornando o programa mais interativo."
   ]
  },
  {
   "cell_type": "markdown",
   "id": "ff40d3f6",
   "metadata": {},
   "source": [
    "## 6. Laços de repetição"
   ]
  },
  {
   "cell_type": "markdown",
   "id": "4dca270e",
   "metadata": {},
   "source": [
    "O laço de repetição serve para repetir instruções até que uma condição seja satisfeita ou até que todos os elementos de uma sequência sejam percorridos."
   ]
  },
  {
   "cell_type": "code",
   "execution_count": null,
   "id": "ede83a52",
   "metadata": {},
   "outputs": [
    {
     "name": "stdout",
     "output_type": "stream",
     "text": [
      "Número:  0\n",
      "Número:  1\n",
      "Número:  2\n",
      "Número:  3\n",
      "Número:  4\n"
     ]
    }
   ],
   "source": [
    "# O for em Python é usado para repetir um bloco de código um número determinado de vezes ou percorrer itens de uma sequência (lista, string, range, etc).\n",
    "\n",
    "                                # range(5) → gera a sequência [0, 1, 2, 3, 4] (sempre começa do 0 e vai até o número antes do indicado). \n",
    "for i in range(5):              # for i in range(5) → o i vai assumir cada valor dessa sequência, um por vez.\n",
    "    print(\"Número: \", i)        # O bloco print(\"Número:\", i) será executado 5 vezes.\n"
   ]
  },
  {
   "cell_type": "markdown",
   "id": "578d9545",
   "metadata": {},
   "source": [
    "##### Utilidades do laço de repetição for\n",
    "\n",
    "###### 1. Repetir tarefas de forma automática: Você evita escrever o mesmo código várias vezes. Exemplo: imprimir números de 0 a 4 sem precisar digitar vários print().\n",
    "###### 2. Percorrer listas ou sequências: Você pode acessar cada elemento de uma lista ou string automaticamente.\n",
    "###### 3. Executar operações em todos os elementos: É útil para soma, contagem, modificação ou verificação de dados em listas."
   ]
  },
  {
   "cell_type": "code",
   "execution_count": null,
   "id": "0393e3e0",
   "metadata": {},
   "outputs": [
    {
     "name": "stdout",
     "output_type": "stream",
     "text": [
      "Contador:  0\n",
      "Contador:  1\n",
      "Contador:  2\n",
      "Contador:  3\n",
      "Contador:  4\n",
      "Contador:  5\n",
      "Contador:  6\n",
      "Contador:  7\n",
      "Contador:  8\n",
      "Contador:  9\n",
      "Contador:  10\n"
     ]
    }
   ],
   "source": [
    "# Laço de repetição while. O while executa um bloco de código enquanto uma condição for verdadeira. Ele é útil quando não sabemos de antemão quantas vezes vamos repetir.\n",
    "\n",
    "                                    # O programa começa com contador = 0.\n",
    "contador = 0\n",
    "\n",
    "while contador <= 10:               # Enquanto a condição contador < 10 for verdadeira, o bloco será executado.\n",
    "    print(\"Contador: \", contador)   # Dentro do laço, contador += 1 aumenta o valor do contador a cada repetição.\n",
    "    contador += 1                   # Quando contador chega a 10, a condição fica falsa e o laço para."
   ]
  },
  {
   "cell_type": "markdown",
   "id": "0ca8c135",
   "metadata": {},
   "source": [
    "##### Utilidades do laço de repetição while\n",
    "\n",
    "###### 1. Repetir uma ação enquanto uma condição for verdadeira: O while é ideal quando não sabemos exatamente quantas vezes o laço precisa rodar, apenas que enquanto uma condição for verdadeira, ele deve continuar.\n",
    "###### 2. Receber entradas válidas do usuário: Você pode usar while para garantir que o usuário digite algo correto, repetindo a pergunta enquanto a condição não for atendida.\n",
    "###### 3. Monitoramento ou execução contínua: O while é útil em programas que precisam verificar condições continuamente, como contadores, jogos, ou sistemas de monitoramento."
   ]
  },
  {
   "cell_type": "markdown",
   "id": "8b1c419f",
   "metadata": {},
   "source": [
    "## 7. Listas"
   ]
  },
  {
   "cell_type": "markdown",
   "id": "34f723d2",
   "metadata": {},
   "source": [
    "Uma lista é uma coleção ordenada de elementos que pode guardar vários valores em uma única variável.\n",
    "\n",
    "\n",
    "Esses valores podem ser de qualquer tipo: números, textos, booleanos, ou até outras listas.\n",
    "\n",
    "\n",
    "Cada elemento da lista tem uma posição (índice) que começa em 0."
   ]
  },
  {
   "cell_type": "code",
   "execution_count": 50,
   "id": "cf6126d9",
   "metadata": {},
   "outputs": [
    {
     "name": "stdout",
     "output_type": "stream",
     "text": [
      "['Banana', 'Morango', 'Uva', 'Mamão', 'Laranja']\n"
     ]
    }
   ],
   "source": [
    "frutas = ['Banana', 'Morango', 'Uva', 'Mamão', 'Laranja']\n",
    "print(frutas)"
   ]
  },
  {
   "cell_type": "markdown",
   "id": "f42b965a",
   "metadata": {},
   "source": [
    "Acessar um elemento"
   ]
  },
  {
   "cell_type": "code",
   "execution_count": 51,
   "id": "680f381a",
   "metadata": {},
   "outputs": [
    {
     "name": "stdout",
     "output_type": "stream",
     "text": [
      "Banana\n"
     ]
    }
   ],
   "source": [
    "# Você quer apenas um elemento dentro da lista, então você diz qual é a posição desse elemento.\n",
    "# lembrando que em Python os elementos são numerados começando do zero, assim 'Banana' é o elemento zero.\n",
    "print(frutas[0])\n"
   ]
  },
  {
   "cell_type": "code",
   "execution_count": 52,
   "id": "31600550",
   "metadata": {},
   "outputs": [
    {
     "name": "stdout",
     "output_type": "stream",
     "text": [
      "['Banana', 'Morango', 'Uva']\n"
     ]
    }
   ],
   "source": [
    "# para ter acesso a mais de um elemento\n",
    "print(frutas[0:3])"
   ]
  },
  {
   "cell_type": "markdown",
   "id": "a3fc55a6",
   "metadata": {},
   "source": [
    "Adicionar elemento"
   ]
  },
  {
   "cell_type": "code",
   "execution_count": 53,
   "id": "7a122d0c",
   "metadata": {},
   "outputs": [
    {
     "name": "stdout",
     "output_type": "stream",
     "text": [
      "['Banana', 'Morango', 'Uva', 'Mamão', 'Laranja', 'Maçã']\n"
     ]
    }
   ],
   "source": [
    "# O método append() é usado para adicionar um elemento ao final de uma lista.\n",
    "# frutas → é a lista que já existe, por exemplo: [\"banana\", \"laranja\", \"uva\"]\n",
    "# 'Maçã' → é o item que você quer adicionar. append() → adiciona no final da lista, aumentando o tamanho dela em 1\n",
    "\n",
    "frutas.append('Maçã')   \n",
    "print(frutas)"
   ]
  },
  {
   "cell_type": "markdown",
   "id": "1d133a30",
   "metadata": {},
   "source": [
    "Adicionar elemento em uma posição determinada"
   ]
  },
  {
   "cell_type": "code",
   "execution_count": 54,
   "id": "7d839218",
   "metadata": {},
   "outputs": [
    {
     "data": {
      "text/plain": [
       "['Banana', 'Morango', 'Abacaxi', 'Uva', 'Mamão', 'Laranja', 'Maçã']"
      ]
     },
     "execution_count": 54,
     "metadata": {},
     "output_type": "execute_result"
    }
   ],
   "source": [
    "# O método desloca os elementos que já estão naquela posição e nas seguintes para a direita.\n",
    "# 2 → é a posição (índice) onde você quer colocar o novo elemento.\n",
    "#'Abacaxi' → é o valor que será inserido na lista.\n",
    "\n",
    "frutas.insert(2, 'Abacaxi') \n",
    "frutas"
   ]
  },
  {
   "cell_type": "markdown",
   "id": "b0a672bc",
   "metadata": {},
   "source": [
    "Modificar um elemento dentro na lista"
   ]
  },
  {
   "cell_type": "code",
   "execution_count": 55,
   "id": "6957d5b8",
   "metadata": {},
   "outputs": [
    {
     "data": {
      "text/plain": [
       "['Banana', 'Manga', 'Abacaxi', 'Uva', 'Mamão', 'Laranja', 'Maçã']"
      ]
     },
     "execution_count": 55,
     "metadata": {},
     "output_type": "execute_result"
    }
   ],
   "source": [
    "# frutas[1] → acessa o elemento que está na posição 1 da lista.\n",
    "# = 'Manga' → atribui um novo valor para essa posição, substituindo o que estava antes.\n",
    "\n",
    "frutas[1] = 'Manga'\n",
    "frutas"
   ]
  },
  {
   "cell_type": "markdown",
   "id": "29d198eb",
   "metadata": {},
   "source": [
    "Remover um elemento"
   ]
  },
  {
   "cell_type": "code",
   "execution_count": 56,
   "id": "d86f24a4",
   "metadata": {},
   "outputs": [
    {
     "name": "stdout",
     "output_type": "stream",
     "text": [
      "7\n"
     ]
    }
   ],
   "source": [
    "# vamos primeiro contar quantos elementos temos em nossa lista e para isso  usaremos o método len\n",
    "print(len(frutas))"
   ]
  },
  {
   "cell_type": "code",
   "execution_count": 57,
   "id": "037b85b2",
   "metadata": {},
   "outputs": [
    {
     "name": "stdout",
     "output_type": "stream",
     "text": [
      "['Banana', 'Manga', 'Abacaxi', 'Mamão', 'Laranja', 'Maçã']\n"
     ]
    }
   ],
   "source": [
    "# vimos acima que temos 7 elementos\n",
    "# remover um elemento através do nome dele\n",
    "\n",
    "frutas.remove('Uva')\n",
    "print(frutas)"
   ]
  },
  {
   "cell_type": "code",
   "execution_count": null,
   "id": "e382a72c",
   "metadata": {},
   "outputs": [
    {
     "name": "stdout",
     "output_type": "stream",
     "text": [
      "6\n"
     ]
    }
   ],
   "source": [
    "print(len(frutas))\n",
    "\n",
    "# o resultado abaixo nos mostra 6 elementos, o que confirma que de fatos houve a eliminação de um dos elementos"
   ]
  },
  {
   "cell_type": "code",
   "execution_count": null,
   "id": "85db3753",
   "metadata": {},
   "outputs": [
    {
     "name": "stdout",
     "output_type": "stream",
     "text": [
      "['Banana', 'Manga', 'Abacaxi', 'Mamão', 'Maçã']\n",
      "5\n"
     ]
    }
   ],
   "source": [
    "# vamos eliminar por posição\n",
    "# 'Laranja' está na posição 4\n",
    "\n",
    "frutas.pop(4)\n",
    "print(frutas)\n",
    "print(len(frutas))\n",
    "\n",
    "# no resultando não temos mais o elemento 'Laranja' e a contagem nos traz apenas 5 elementos"
   ]
  },
  {
   "cell_type": "markdown",
   "id": "3f959cb0",
   "metadata": {},
   "source": [
    "##### Utilidades das listas\n",
    "\n",
    "###### 1. Armazenar vários valores em uma única variável: Ao invés de criar uma variável para cada fruta, você guarda todas em uma única lista, facilitando o acesso e a organização.\n",
    "###### 2. Percorrer elementos facilmente: Você pode usar laços de repetição para executar operações em todos os elementos da lista.\n",
    "###### 3. Adicionar, remover e modificar itens dinamicamente: Listas são mutáveis, ou seja, você pode alterar os dados a qualquer momento."
   ]
  },
  {
   "cell_type": "markdown",
   "id": "03bc075b",
   "metadata": {},
   "source": [
    "## 8. Funções"
   ]
  },
  {
   "cell_type": "markdown",
   "id": "ba8fafcd",
   "metadata": {},
   "source": [
    "O que é uma função em Python\n",
    "\n",
    "\n",
    "Uma função é um bloco de código reutilizável que realiza uma tarefa específica.\n",
    "\n",
    "\n",
    "Você define a função uma vez e pode chamar várias vezes no programa.\n",
    "\n",
    "\n",
    "Pode receber entradas (parâmetros) e retornar saídas (valores)."
   ]
  },
  {
   "cell_type": "code",
   "execution_count": null,
   "id": "690fd70f",
   "metadata": {},
   "outputs": [
    {
     "name": "stdout",
     "output_type": "stream",
     "text": [
      "Olá, Jailson\n"
     ]
    }
   ],
   "source": [
    "def saudacao(nome):         # def saudacao(nome): → define uma função chamada saudacao que recebe um parâmetro chamado nome.\n",
    "    return f'Olá, {nome}'   # return f\"Olá, {nome}!\" → retorna a mensagem \"Olá, Jailson!\" (ou o que você passar como nome).\n",
    "print(saudacao('Jailson'))  # print(saudacao(\"Jailson\")) → chama a função com \"Jailson\" como argumento e imprime o resultado."
   ]
  },
  {
   "cell_type": "markdown",
   "id": "adfe8045",
   "metadata": {},
   "source": [
    "##### Utilidades da função\n",
    "\n",
    "###### 1. Evitar repetição de código: Se você precisar cumprimentar várias pessoas, não precisa escrever várias vezes o print. Basta chamar a função quantas vezes quiser\n",
    "\n",
    "###### 2. Organizar o código: Funções ajudam a separar tarefas em blocos, deixando o código mais limpo e fácil de entender.\n",
    "\n",
    "###### 3. Reutilização e manutenção: Se você quiser mudar a mensagem de saudação, basta alterar uma vez dentro da função, sem precisar mexer em todos os prints do código:"
   ]
  }
 ],
 "metadata": {
  "kernelspec": {
   "display_name": "Python 3",
   "language": "python",
   "name": "python3"
  },
  "language_info": {
   "codemirror_mode": {
    "name": "ipython",
    "version": 3
   },
   "file_extension": ".py",
   "mimetype": "text/x-python",
   "name": "python",
   "nbconvert_exporter": "python",
   "pygments_lexer": "ipython3",
   "version": "3.13.7"
  }
 },
 "nbformat": 4,
 "nbformat_minor": 5
}
