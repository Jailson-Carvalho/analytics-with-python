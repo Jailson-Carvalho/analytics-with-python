{
 "cells": [
  {
   "attachments": {},
   "cell_type": "markdown",
   "metadata": {},
   "source": [
    "# LISTAS"
   ]
  },
  {
   "attachments": {},
   "cell_type": "markdown",
   "metadata": {},
   "source": [
    "01 - Lista é a coleção de elementos\n",
    "\n",
    "\n",
    "02 - Cada elemento possui uma posição dentro de uma lista. Essa posição é chamada de índice\n",
    "\n",
    "\n",
    "03 - O primeiro elemento fica armazenado na posição 0, enquanto o último elemento fica armazenado na possição n-1 (onde n é a quantidade de elementos da lista)\n",
    "\n"
   ]
  },
  {
   "cell_type": "markdown",
   "metadata": {},
   "source": [
    "## 📝 A Importância de Criar Listas em Python\n",
    "\n",
    "As listas em Python são uma das estruturas de dados mais utilizadas e versáteis da linguagem.\n",
    "Elas permitem armazenar múltiplos valores em uma única variável, facilitando a organização, manipulação e análise de dados.\n",
    "\n",
    "### Por que listas são importantes?\n",
    "\n",
    "\n",
    "- Armazenamento de múltiplos valores\n",
    "\n",
    "    Em vez de criar várias variáveis, podemos guardar todos os elementos em uma única lista.\n",
    "\n",
    "\n",
    "- Flexibilidade\n",
    "\n",
    "    Uma lista pode conter diferentes tipos de dados: números, strings, booleanos e até outras listas.\n",
    "\n",
    "\n",
    "- Manipulação eficiente\n",
    "\n",
    "    Com métodos prontos (como append(), remove(), sort()), é possível adicionar, excluir e ordenar elementos de forma simples.\n",
    "\n",
    "\n",
    "- Iteração fácil\n",
    "\n",
    "    As listas podem ser percorridas com laços for e while, permitindo a automação de tarefas repetitivas.\n",
    "\n",
    "\n",
    "- Base para análise de dados\n",
    "\n",
    "    Em ciência de dados, listas são fundamentais para organizar informações antes de trabalhar com bibliotecas como NumPy e pandas."
   ]
  },
  {
   "attachments": {},
   "cell_type": "markdown",
   "metadata": {},
   "source": [
    "### 1. Como criar uma lista"
   ]
  },
  {
   "cell_type": "code",
   "execution_count": 8,
   "metadata": {},
   "outputs": [],
   "source": [
    "# criando uma lista vazia\n",
    "lista_vazia = [25, 'Jailson']\n"
   ]
  },
  {
   "cell_type": "code",
   "execution_count": 9,
   "metadata": {},
   "outputs": [
    {
     "data": {
      "text/plain": [
       "list"
      ]
     },
     "execution_count": 9,
     "metadata": {},
     "output_type": "execute_result"
    }
   ],
   "source": [
    "type(lista_vazia)\n"
   ]
  },
  {
   "cell_type": "code",
   "execution_count": null,
   "metadata": {},
   "outputs": [
    {
     "data": {
      "text/plain": [
       "2"
      ]
     },
     "execution_count": 10,
     "metadata": {},
     "output_type": "execute_result"
    }
   ],
   "source": [
    "# verificando o tamanho da lista quantidade de linhas\n",
    "len(lista_vazia)"
   ]
  },
  {
   "cell_type": "code",
   "execution_count": 17,
   "metadata": {},
   "outputs": [],
   "source": [
    "# lista dentro de lista(Aninhada)\n",
    "lista_aninhada = [\n",
    "    [1,35,41541], \n",
    "    ['Jailson', 65, True], \n",
    "    [15,41.65, True, 'Jailson Carvalho']]"
   ]
  },
  {
   "cell_type": "code",
   "execution_count": 18,
   "metadata": {},
   "outputs": [
    {
     "data": {
      "text/plain": [
       "[[1, 35, 41541], ['Jailson', 65, True], [15, 41.65, True, 'Jailson Carvalho']]"
      ]
     },
     "execution_count": 18,
     "metadata": {},
     "output_type": "execute_result"
    }
   ],
   "source": [
    "lista_aninhada"
   ]
  },
  {
   "cell_type": "code",
   "execution_count": 19,
   "metadata": {},
   "outputs": [
    {
     "data": {
      "text/plain": [
       "3"
      ]
     },
     "execution_count": 19,
     "metadata": {},
     "output_type": "execute_result"
    }
   ],
   "source": [
    "len(lista_aninhada)"
   ]
  },
  {
   "cell_type": "code",
   "execution_count": null,
   "metadata": {},
   "outputs": [
    {
     "data": {
      "text/plain": [
       "'Jailson Carvalho'"
      ]
     },
     "execution_count": 25,
     "metadata": {},
     "output_type": "execute_result"
    }
   ],
   "source": [
    "## como acessar o último elemendo da terceira lista.\n",
    "lista_aninhada[2][3]\n",
    "\n",
    "# [2] é a posição da lista que contem o elemento buscado\n",
    "# [3] é a posição do elemento buscado na lista[2]"
   ]
  },
  {
   "cell_type": "code",
   "execution_count": 1,
   "metadata": {},
   "outputs": [
    {
     "name": "stdout",
     "output_type": "stream",
     "text": [
      "[10, 100, 10000, 100000]\n"
     ]
    }
   ],
   "source": [
    "# O método append adiciona  uma elemento no final da lista\n",
    "\n",
    "# criar uma lista vazia\n",
    "numero = []\n",
    "\n",
    "numero.append(10)\n",
    "numero.append(100)\n",
    "numero.append(10000)\n",
    "numero.append(100000)\n",
    "\n",
    "\n",
    "print(numero)"
   ]
  }
 ],
 "metadata": {
  "kernelspec": {
   "display_name": "Python 3",
   "language": "python",
   "name": "python3"
  },
  "language_info": {
   "codemirror_mode": {
    "name": "ipython",
    "version": 3
   },
   "file_extension": ".py",
   "mimetype": "text/x-python",
   "name": "python",
   "nbconvert_exporter": "python",
   "pygments_lexer": "ipython3",
   "version": "3.13.7"
  },
  "orig_nbformat": 4
 },
 "nbformat": 4,
 "nbformat_minor": 2
}
