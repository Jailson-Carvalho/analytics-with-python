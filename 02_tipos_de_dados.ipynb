{
 "cells": [
  {
   "cell_type": "markdown",
   "id": "a471e5b0",
   "metadata": {},
   "source": [
    "# Tipos de Dados"
   ]
  },
  {
   "cell_type": "markdown",
   "id": "5bd7acda",
   "metadata": {},
   "source": [
    "# ------------------------------\n",
    "### Exemplo prático de Tipos de Dados em Python\n",
    "### Autor: Jailson Carvalho\n",
    "# ------------------------------\n"
   ]
  },
  {
   "cell_type": "markdown",
   "id": "a7ff1e06",
   "metadata": {},
   "source": [
    "🔎 Tipos de Dados em Python\n",
    "\n",
    "Este repositório apresenta exemplos práticos sobre tipos de dados em Python.  \n",
    "Saber identificar e manipular tipos de dados é essencial em Análise de Dados, já que cada operação exige um tipo específico.\n",
    "\n",
    "---\n",
    "\n",
    "📌 Por que é importante conhecer os tipos de dados?\n",
    "\n",
    "1. Evitar erros: operações só podem ser feitas entre tipos compatíveis.  \n",
    "   - Exemplo: somar `int + float` é possível, mas `int + str` gera erro.  \n",
    "\n",
    "2. Otimizar código: escolher o tipo correto ajuda na performance.  \n",
    "\n",
    "3. Garantir consistência: em bases de dados, precisamos saber se uma coluna é `numérica`, `categórica`, `boolean` ou `string` antes da análise.  \n",
    "\n",
    "4. Tratar dados ausentes: o tipo `None` em Python (ou `NaN` em pandas) precisa ser identificado para evitar distorções em cálculos.  \n",
    "\n",
    "---\n",
    "\n",
    "📊 Exemplos de Tipos de Dados\n",
    "\n",
    "- int → números inteiros  \n",
    "- float → números decimais  \n",
    "- str → textos (strings)  \n",
    "- bool → valores lógicos (`True` ou `False`)  \n",
    "- list → coleção mutável de elementos  \n",
    "- tuple → coleção imutável de elementos  \n",
    "- dict → dicionário (pares chave:valor)  \n",
    "- set → conjunto sem duplicatas  \n",
    "- NoneType → ausência de valor  \n",
    "\n",
    "---\n",
    "\n",
    " 🚀 Como executar\n",
    "\n",
    "No terminal, rode:\n",
    "\n",
    "```bash\n",
    "python tipos_dados.py\n"
   ]
  },
  {
   "cell_type": "code",
   "execution_count": 1,
   "id": "87afcd4b",
   "metadata": {},
   "outputs": [
    {
     "name": "stdout",
     "output_type": "stream",
     "text": [
      "5 <class 'int'>\n"
     ]
    }
   ],
   "source": [
    "# Números inteiros (int)\n",
    "qtd = 5\n",
    "print(qtd, type(qtd))"
   ]
  },
  {
   "cell_type": "code",
   "execution_count": 2,
   "id": "d076be97",
   "metadata": {},
   "outputs": [
    {
     "name": "stdout",
     "output_type": "stream",
     "text": [
      "100.5 <class 'float'>\n"
     ]
    }
   ],
   "source": [
    "# Números decimais (float)\n",
    "pc_produto = 100.50\n",
    "print(pc_produto, type(pc_produto))"
   ]
  },
  {
   "cell_type": "code",
   "execution_count": 3,
   "id": "b9536597",
   "metadata": {},
   "outputs": [
    {
     "name": "stdout",
     "output_type": "stream",
     "text": [
      "Jailson Carvalho <class 'str'>\n"
     ]
    }
   ],
   "source": [
    "# Strings (str)\n",
    "nome = 'Jailson Carvalho'\n",
    "print(nome, type(nome))"
   ]
  },
  {
   "cell_type": "code",
   "execution_count": 4,
   "id": "e72f944d",
   "metadata": {},
   "outputs": [
    {
     "name": "stdout",
     "output_type": "stream",
     "text": [
      "True <class 'bool'>\n"
     ]
    }
   ],
   "source": [
    "# Booleanos (bool)\n",
    "tem_acesso = True\n",
    "print(tem_acesso, type(tem_acesso))"
   ]
  },
  {
   "cell_type": "code",
   "execution_count": 5,
   "id": "13cc7d74",
   "metadata": {},
   "outputs": [
    {
     "name": "stdout",
     "output_type": "stream",
     "text": [
      "Total de compras: 45.99 <class 'float'>\n"
     ]
    }
   ],
   "source": [
    "# Operação entre variáveis\n",
    "itens = 3 \n",
    "valor = 15.33\n",
    "total_compras = itens * valor\n",
    "print(\"Total de compras:\", total_compras, type(total_compras))"
   ]
  },
  {
   "cell_type": "code",
   "execution_count": 6,
   "id": "c7831e65",
   "metadata": {},
   "outputs": [
    {
     "name": "stdout",
     "output_type": "stream",
     "text": [
      "['maçã', 'banana', 'laranja'] <class 'list'>\n"
     ]
    }
   ],
   "source": [
    "# Listas (list)\n",
    "frutas = [\"maçã\", \"banana\", \"laranja\"]\n",
    "print(frutas, type(frutas))"
   ]
  },
  {
   "cell_type": "code",
   "execution_count": 7,
   "id": "0fc39ab8",
   "metadata": {},
   "outputs": [
    {
     "name": "stdout",
     "output_type": "stream",
     "text": [
      "(10, 20) <class 'tuple'>\n"
     ]
    }
   ],
   "source": [
    "# Tuplas (tuple)\n",
    "coordenadas = (10, 20)\n",
    "print(coordenadas, type(coordenadas))"
   ]
  },
  {
   "cell_type": "code",
   "execution_count": 8,
   "id": "7a652976",
   "metadata": {},
   "outputs": [
    {
     "name": "stdout",
     "output_type": "stream",
     "text": [
      "{'nome': 'Jailson', 'idade': 30, 'profissao': 'Analista de Dados'} <class 'dict'>\n"
     ]
    }
   ],
   "source": [
    "# Dicionários (dict)\n",
    "pessoa = {\"nome\": \"Jailson\", \"idade\": 30, \"profissao\": \"Analista de Dados\"}\n",
    "print(pessoa, type(pessoa))"
   ]
  },
  {
   "cell_type": "code",
   "execution_count": 9,
   "id": "ff43f310",
   "metadata": {},
   "outputs": [
    {
     "name": "stdout",
     "output_type": "stream",
     "text": [
      "{101, 102, 103} <class 'set'>\n"
     ]
    }
   ],
   "source": [
    "# Conjuntos (set)\n",
    "ids = {101, 102, 103, 101}\n",
    "print(ids, type(ids))  # não permite valores duplicados"
   ]
  },
  {
   "cell_type": "code",
   "execution_count": 10,
   "id": "f34855b2",
   "metadata": {},
   "outputs": [
    {
     "name": "stdout",
     "output_type": "stream",
     "text": [
      "None <class 'NoneType'>\n"
     ]
    }
   ],
   "source": [
    "# Tipo None (ausência de valor)\n",
    "nada = None\n",
    "print(nada, type(nada))"
   ]
  },
  {
   "cell_type": "code",
   "execution_count": 11,
   "id": "2d81d3bb",
   "metadata": {},
   "outputs": [
    {
     "name": "stdout",
     "output_type": "stream",
     "text": [
      "True\n",
      "True\n",
      "True\n"
     ]
    }
   ],
   "source": [
    "# Descobrindo tipo de forma alternativa\n",
    "print(isinstance(10, int))       # True\n",
    "print(isinstance(\"texto\", str))  # True\n",
    "print(isinstance(3.5, float))    # True"
   ]
  }
 ],
 "metadata": {
  "kernelspec": {
   "display_name": "Python 3",
   "language": "python",
   "name": "python3"
  },
  "language_info": {
   "codemirror_mode": {
    "name": "ipython",
    "version": 3
   },
   "file_extension": ".py",
   "mimetype": "text/x-python",
   "name": "python",
   "nbconvert_exporter": "python",
   "pygments_lexer": "ipython3",
   "version": "3.13.7"
  }
 },
 "nbformat": 4,
 "nbformat_minor": 5
}
